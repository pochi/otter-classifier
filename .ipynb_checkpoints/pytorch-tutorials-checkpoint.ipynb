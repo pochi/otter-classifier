{
 "cells": [
  {
   "cell_type": "markdown",
   "metadata": {},
   "source": [
    "# Pytorch tutorials"
   ]
  },
  {
   "cell_type": "markdown",
   "metadata": {},
   "source": [
    "### Tensors\n",
    "\n",
    "##### 初期化"
   ]
  },
  {
   "cell_type": "code",
   "execution_count": 1,
   "metadata": {
    "collapsed": false
   },
   "outputs": [
    {
     "name": "stdout",
     "output_type": "stream",
     "text": [
      "\n",
      " 0.0000e+00  1.0842e-19  0.0000e+00\n",
      " 1.0842e-19  6.5828e-35  1.4013e-45\n",
      " 4.5925e+24  1.7448e+22  1.1429e+33\n",
      " 4.6114e+24  2.8031e+20  1.2410e+28\n",
      " 0.0000e+00  1.0842e-19  0.0000e+00\n",
      "[torch.FloatTensor of size 5x3]\n",
      "\n",
      "\n",
      " 0.5397  0.1466  0.6961\n",
      " 0.4345  0.2879  0.5968\n",
      " 0.0540  0.2120  0.2369\n",
      " 0.9321  0.3987  0.3628\n",
      " 0.5355  0.3620  0.1579\n",
      "[torch.FloatTensor of size 5x3]\n",
      "\n"
     ]
    }
   ],
   "source": [
    "from __future__ import print_function\n",
    "import torch\n",
    "\n",
    "x = torch.Tensor(5,3)\n",
    "print(x)\n",
    "\n",
    "x = torch.rand(5,3)\n",
    "print(x)"
   ]
  },
  {
   "cell_type": "markdown",
   "metadata": {},
   "source": [
    "##### サイズを知る"
   ]
  },
  {
   "cell_type": "code",
   "execution_count": 6,
   "metadata": {
    "collapsed": false
   },
   "outputs": [
    {
     "name": "stdout",
     "output_type": "stream",
     "text": [
      "torch.Size([5, 3])\n"
     ]
    }
   ],
   "source": [
    "print(x.size())"
   ]
  },
  {
   "cell_type": "markdown",
   "metadata": {},
   "source": [
    "### Operations"
   ]
  },
  {
   "cell_type": "code",
   "execution_count": 12,
   "metadata": {
    "collapsed": false
   },
   "outputs": [
    {
     "name": "stdout",
     "output_type": "stream",
     "text": [
      "\n",
      " 0.5397  0.1466  0.6961\n",
      " 0.4345  0.2879  0.5968\n",
      " 0.0540  0.2120  0.2369\n",
      " 0.9321  0.3987  0.3628\n",
      " 0.5355  0.3620  0.1579\n",
      "[torch.FloatTensor of size 5x3]\n",
      "\n",
      "\n",
      " 0.5397  0.1466  0.6961\n",
      " 0.4345  0.2879  0.5968\n",
      " 0.0540  0.2120  0.2369\n",
      " 0.9321  0.3987  0.3628\n",
      " 0.5355  0.3620  0.1579\n",
      "[torch.FloatTensor of size 5x3]\n",
      "\n",
      "\n",
      " 0.5397  0.1466  0.6961\n",
      " 0.4345  0.2879  0.5968\n",
      " 0.0540  0.2120  0.2369\n",
      " 0.9321  0.3987  0.3628\n",
      " 0.5355  0.3620  0.1579\n",
      "[torch.FloatTensor of size 5x3]\n",
      "\n",
      "\n",
      " 0.5397  0.1466  0.6961\n",
      " 0.4345  0.2879  0.5968\n",
      " 0.0540  0.2120  0.2369\n",
      " 0.9321  0.3987  0.3628\n",
      " 0.5355  0.3620  0.1579\n",
      "[torch.FloatTensor of size 5x3]\n",
      "\n",
      "\n",
      " 0.1466\n",
      " 0.2879\n",
      " 0.2120\n",
      " 0.3987\n",
      " 0.3620\n",
      "[torch.FloatTensor of size 5]\n",
      "\n"
     ]
    }
   ],
   "source": [
    "y = torch.Tensor(5,3)\n",
    "print(x+y)\n",
    "print(torch.add(x,y))\n",
    "result = torch.Tensor(5,3)\n",
    "torch.add(x,y,out=result)\n",
    "print(result)\n",
    "# 破壊的な変更\n",
    "y.add_(x)\n",
    "print(y)\n",
    "# numpyみたいな参照が可能\n",
    "print(result[:,1])"
   ]
  },
  {
   "cell_type": "markdown",
   "metadata": {},
   "source": [
    "### Numpy Bridge\n",
    "\n",
    "Numpy配列と互換性を持たせるように設計している"
   ]
  },
  {
   "cell_type": "code",
   "execution_count": null,
   "metadata": {
    "collapsed": true
   },
   "outputs": [],
   "source": []
  }
 ],
 "metadata": {
  "kernelspec": {
   "display_name": "Python 2",
   "language": "python",
   "name": "python2"
  },
  "language_info": {
   "codemirror_mode": {
    "name": "ipython",
    "version": 2
   },
   "file_extension": ".py",
   "mimetype": "text/x-python",
   "name": "python",
   "nbconvert_exporter": "python",
   "pygments_lexer": "ipython2",
   "version": "2.7.13"
  }
 },
 "nbformat": 4,
 "nbformat_minor": 2
}
